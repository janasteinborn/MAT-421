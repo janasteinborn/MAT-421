{
  "nbformat": 4,
  "nbformat_minor": 0,
  "metadata": {
    "colab": {
      "provenance": [],
      "authorship_tag": "ABX9TyOXzNFcLcLty732crXZWObk",
      "include_colab_link": true
    },
    "kernelspec": {
      "name": "python3",
      "display_name": "Python 3"
    },
    "language_info": {
      "name": "python"
    }
  },
  "cells": [
    {
      "cell_type": "markdown",
      "metadata": {
        "id": "view-in-github",
        "colab_type": "text"
      },
      "source": [
        "<a href=\"https://colab.research.google.com/github/janasteinborn/MAT-421/blob/main/Homework1.ipynb\" target=\"_parent\"><img src=\"https://colab.research.google.com/assets/colab-badge.svg\" alt=\"Open In Colab\"/></a>"
      ]
    },
    {
      "cell_type": "code",
      "execution_count": null,
      "metadata": {
        "id": "UY0Nynwf3wMR"
      },
      "outputs": [],
      "source": []
    },
    {
      "cell_type": "markdown",
      "source": [
        "MAT 421 Homework 1"
      ],
      "metadata": {
        "id": "wtVRD2m434l8"
      }
    },
    {
      "cell_type": "markdown",
      "source": [
        "Name: Jana Steinborn"
      ],
      "metadata": {
        "id": "wkJ6dFF9ExdE"
      }
    },
    {
      "cell_type": "markdown",
      "source": [
        "\n",
        "## 9.1 Base-N and Binary\n",
        "\n",
        "Numbers can be represented in various numeral systems, such as binary (base-2), octal (base-8), decimal (base-10), or hexadecimal (base-16).\n",
        "Each base uses a specific set of digits to represent values. For example:\n",
        "- Binary uses 0 and 1.\n",
        "- Octal uses digits from 0 to 7.\n",
        "- Decimal uses digits from 0 to 9.\n",
        "- Hexadecimal uses digits 0-9 and letters A-F.\n",
        "\n",
        "### Key Points:\n",
        "1. Base conversions are essential in computer science and engineering, especially for tasks like encoding data and optimizing memory storage.\n",
        "2. Binary arithmetic is foundational for logic gates and digital circuits.\n",
        "\n",
        "Below, we explore how to convert numbers between decimal and other bases and perform binary arithmetic operations.\n"
      ],
      "metadata": {
        "id": "XLfVK4APD6_8"
      }
    },
    {
      "cell_type": "code",
      "source": [
        "# Converting a decimal number to different bases\n",
        "decimal_number = 42  # Change this value to explore other conversions\n",
        "\n",
        "# Conversions to binary, octal, and hexadecimal\n",
        "binary_representation = bin(decimal_number)  # Binary (base-2)\n",
        "octal_representation = oct(decimal_number)  # Octal (base-8)\n",
        "hexadecimal_representation = hex(decimal_number)  # Hexadecimal (base-16)\n",
        "\n",
        "print(f\"Decimal: {decimal_number}\")\n",
        "print(f\"Binary: {binary_representation}\")\n",
        "print(f\"Octal: {octal_representation}\")\n",
        "print(f\"Hexadecimal: {hexadecimal_representation}\")\n",
        "\n",
        "# Binary arithmetic: Adding and multiplying binary numbers\n",
        "binary_num1 = 0b1010  # Binary for 10\n",
        "binary_num2 = 0b1111  # Binary for 15\n",
        "\n",
        "binary_sum = bin(binary_num1 + binary_num2)  # Binary addition\n",
        "binary_product = bin(binary_num1 * binary_num2)  # Binary multiplication\n",
        "\n",
        "print(f\"Binary Number 1: {bin(binary_num1)}\")\n",
        "print(f\"Binary Number 2: {bin(binary_num2)}\")\n",
        "print(f\"Binary Sum: {binary_sum}\")\n",
        "print(f\"Binary Product: {binary_product}\")"
      ],
      "metadata": {
        "colab": {
          "base_uri": "https://localhost:8080/"
        },
        "id": "4rWNpo944INj",
        "outputId": "cafe347a-c808-4b9a-f54f-b9f64a7c1b42"
      },
      "execution_count": 1,
      "outputs": [
        {
          "output_type": "stream",
          "name": "stdout",
          "text": [
            "Decimal: 42\n",
            "Binary: 0b101010\n",
            "Octal: 0o52\n",
            "Hexadecimal: 0x2a\n",
            "Binary Number 1: 0b1010\n",
            "Binary Number 2: 0b1111\n",
            "Binary Sum: 0b11001\n",
            "Binary Product: 0b10010110\n"
          ]
        }
      ]
    },
    {
      "cell_type": "markdown",
      "source": [
        "\n",
        "## 9.2 Floating Point Numbers\n",
        "\n",
        "Floating-point numbers represent real numbers, but their precision is limited due to finite memory.\n",
        "For example, the number `0.1` cannot be represented exactly in binary.\n",
        "\n",
        "### Key Points:\n",
        "1. Floating-point representation follows the IEEE 754 standard, which defines formats for single and double precision.\n",
        "2. Precision issues arise when handling very small or very large numbers or performing arithmetic operations repeatedly.\n",
        "\n",
        "Below, we explore examples of floating-point precision and representation.\n"
      ],
      "metadata": {
        "id": "dJCu10xqEUpn"
      }
    },
    {
      "cell_type": "code",
      "source": [
        "# Representation and precision of floating-point numbers\n",
        "number1 = 0.1\n",
        "number2 = 0.2\n",
        "sum_result = number1 + number2  # Adding two floating-point numbers\n",
        "\n",
        "print(f\"Number 1: {number1}\")\n",
        "print(f\"Number 2: {number2}\")\n",
        "print(f\"Sum (Expected 0.3): {sum_result}\")\n",
        "\n",
        "# Handling very small differences\n",
        "small_number1 = 1.0000001\n",
        "small_number2 = 1.0000002\n",
        "difference = small_number2 - small_number1\n",
        "\n",
        "print(f\"Small Number 1: {small_number1}\")\n",
        "print(f\"Small Number 2: {small_number2}\")\n",
        "print(f\"Difference: {difference}\")\n",
        "\n",
        "# Comparing with a library solution (e.g., Decimal for precision)\n",
        "from decimal import Decimal\n",
        "\n",
        "decimal_number1 = Decimal('0.1')\n",
        "decimal_number2 = Decimal('0.2')\n",
        "decimal_sum = decimal_number1 + decimal_number2\n",
        "\n",
        "print(f\"Decimal Sum (Exact): {decimal_sum}\")\n"
      ],
      "metadata": {
        "colab": {
          "base_uri": "https://localhost:8080/"
        },
        "id": "QR4DKqg0EY28",
        "outputId": "2d55419d-b8b2-46d7-aa78-1497ff47b830"
      },
      "execution_count": 2,
      "outputs": [
        {
          "output_type": "stream",
          "name": "stdout",
          "text": [
            "Number 1: 0.1\n",
            "Number 2: 0.2\n",
            "Sum (Expected 0.3): 0.30000000000000004\n",
            "Small Number 1: 1.0000001\n",
            "Small Number 2: 1.0000002\n",
            "Difference: 9.999999983634211e-08\n",
            "Decimal Sum (Exact): 0.3\n"
          ]
        }
      ]
    },
    {
      "cell_type": "markdown",
      "source": [
        "\n",
        "## 9.3 Round-off Errors\n",
        "\n",
        "Round-off errors occur because floating-point numbers have limited precision in binary representation.\n",
        "These errors can accumulate during repeated operations, leading to significant inaccuracies.\n",
        "\n",
        "### Key Points:\n",
        "1. Round-off errors are common in scientific computations and simulations.\n",
        "2. Strategies to mitigate these errors include using higher precision or specialized libraries.\n",
        "\n",
        "Below, we demonstrate how these errors appear and their impact on computations.\n"
      ],
      "metadata": {
        "id": "dO5T0KGgEcXS"
      }
    },
    {
      "cell_type": "code",
      "source": [
        "# Demonstrating round-off errors in floating-point arithmetic\n",
        "value = 0.1 + 0.1 + 0.1 - 0.3  # This should ideally be 0\n",
        "print(f\"Result of 0.1 + 0.1 + 0.1 - 0.3: {value}\")\n",
        "\n",
        "# Accumulation of errors in repeated operations\n",
        "total = 0.0\n",
        "for _ in range(10):\n",
        "    total += 0.1\n",
        "\n",
        "expected_total = 1.0\n",
        "print(f\"Accumulated Total: {total}\")\n",
        "print(f\"Expected Total: {expected_total}\")\n",
        "print(f\"Difference: {total - expected_total}\")\n",
        "\n",
        "# Using Decimal to avoid accumulation errors\n",
        "from decimal import Decimal\n",
        "\n",
        "total_decimal = Decimal('0.0')\n",
        "increment = Decimal('0.1')\n",
        "for _ in range(10):\n",
        "    total_decimal += increment\n",
        "\n",
        "print(f\"Accumulated Total with Decimal: {total_decimal}\")"
      ],
      "metadata": {
        "colab": {
          "base_uri": "https://localhost:8080/"
        },
        "id": "ZQmznGSTEft0",
        "outputId": "8ef34425-1889-4d68-d09a-ca1bda7f18c2"
      },
      "execution_count": 3,
      "outputs": [
        {
          "output_type": "stream",
          "name": "stdout",
          "text": [
            "Result of 0.1 + 0.1 + 0.1 - 0.3: 5.551115123125783e-17\n",
            "Accumulated Total: 0.9999999999999999\n",
            "Expected Total: 1.0\n",
            "Difference: -1.1102230246251565e-16\n",
            "Accumulated Total with Decimal: 1.0\n"
          ]
        }
      ]
    }
  ]
}