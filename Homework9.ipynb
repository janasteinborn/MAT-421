{
  "nbformat": 4,
  "nbformat_minor": 0,
  "metadata": {
    "colab": {
      "provenance": [],
      "authorship_tag": "ABX9TyNGhs+Hhl8Fb9l/K/4Ul1g+",
      "include_colab_link": true
    },
    "kernelspec": {
      "name": "python3",
      "display_name": "Python 3"
    },
    "language_info": {
      "name": "python"
    }
  },
  "cells": [
    {
      "cell_type": "markdown",
      "metadata": {
        "id": "view-in-github",
        "colab_type": "text"
      },
      "source": [
        "<a href=\"https://colab.research.google.com/github/janasteinborn/MAT-421/blob/main/Homework9.ipynb\" target=\"_parent\"><img src=\"https://colab.research.google.com/assets/colab-badge.svg\" alt=\"Open In Colab\"/></a>"
      ]
    },
    {
      "cell_type": "markdown",
      "source": [
        "MAT 421 Homework 9"
      ],
      "metadata": {
        "id": "MOIJ2LzqMU21"
      }
    },
    {
      "cell_type": "markdown",
      "source": [
        "Name: Jana Steinborn"
      ],
      "metadata": {
        "id": "dEaqLdA-MXM1"
      }
    },
    {
      "cell_type": "markdown",
      "source": [
        "## Simpson's Rule\n",
        "\n",
        "Simpson’s Rule is a numerical method for approximating the integral of a function using quadratic interpolation. It is given by:\n",
        "\n",
        "$ \\int_{a}^{b} f(x) dx \\approx \\frac{h}{3} \\left[ f(a) + 4f(a+h) + 2f(a+2h) + ... + f(b) \\right]$\n",
        "\n",
        "where $( h = \\frac{b-a}{n} )$ and $( n )$ must be even.\n",
        "\n",
        "Below is an implementation of Simpson’s Rule in Python, along with an example."
      ],
      "metadata": {
        "id": "ggX9koXDMZai"
      }
    },
    {
      "cell_type": "code",
      "source": [
        "\n",
        "import numpy as np\n",
        "\n",
        "def simpsons_rule(f, a, b, n):\n",
        "    \"\"\"\n",
        "    Approximates the integral of f(x) from a to b using Simpson's Rule with n subdivisions (must be even).\n",
        "    \"\"\"\n",
        "    if n % 2 == 1:\n",
        "        raise ValueError(\"n must be even\")\n",
        "\n",
        "    h = (b - a) / n\n",
        "    x = np.linspace(a, b, n+1)\n",
        "    y = f(x)\n",
        "\n",
        "    integral = (h / 3) * (y[0] + 4 * sum(y[1:n:2]) + 2 * sum(y[2:n-1:2]) + y[n])\n",
        "    return integral\n",
        "\n",
        "# Example: Integrating e^(-x^2) from x=0 to x=2 with n=6\n",
        "def f(x):\n",
        "    return np.exp(-x**2)\n",
        "\n",
        "a, b, n = 0, 2, 6\n",
        "\n",
        "# Compute integral using Simpson's Rule\n",
        "result = simpsons_rule(f, a, b, n)\n",
        "print(f\"Approximate integral of e^(-x^2) from {a} to {b} using n={n}: {result:.6f}\")\n"
      ],
      "metadata": {
        "colab": {
          "base_uri": "https://localhost:8080/"
        },
        "id": "jFz2jX75Mpty",
        "outputId": "f23b4321-9cac-4c70-f07d-1e91fcdf5680"
      },
      "execution_count": 1,
      "outputs": [
        {
          "output_type": "stream",
          "name": "stdout",
          "text": [
            "Approximate integral of e^(-x^2) from 0 to 2 using n=6: 0.882032\n"
          ]
        }
      ]
    }
  ]
}