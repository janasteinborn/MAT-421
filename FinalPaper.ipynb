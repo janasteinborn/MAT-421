{
  "nbformat": 4,
  "nbformat_minor": 0,
  "metadata": {
    "colab": {
      "provenance": [],
      "authorship_tag": "ABX9TyMZ1iyp8IaBgf0c+lUWEssU",
      "include_colab_link": true
    },
    "kernelspec": {
      "name": "python3",
      "display_name": "Python 3"
    },
    "language_info": {
      "name": "python"
    }
  },
  "cells": [
    {
      "cell_type": "markdown",
      "metadata": {
        "id": "view-in-github",
        "colab_type": "text"
      },
      "source": [
        "<a href=\"https://colab.research.google.com/github/janasteinborn/MAT-421/blob/main/FinalPaper.ipynb\" target=\"_parent\"><img src=\"https://colab.research.google.com/assets/colab-badge.svg\" alt=\"Open In Colab\"/></a>"
      ]
    },
    {
      "cell_type": "markdown",
      "source": [
        "MAT 421 Final Paper"
      ],
      "metadata": {
        "id": "QagfZSeVwp88"
      }
    },
    {
      "cell_type": "markdown",
      "source": [
        "Name: Jana Steinborn"
      ],
      "metadata": {
        "id": "SaGHDL0ewsl6"
      }
    },
    {
      "cell_type": "markdown",
      "source": [
        "\n",
        "# INTRODUCTION\n",
        "\n",
        "Large Language Models (LLMs) such as GPT-3, GPT-4, PaLM, and others have transformed the landscape of artificial intelligence. These models have achieved remarkable success across a wide variety of tasks, including machine translation, question answering, summarization, and content generation. However, LLMs are typically **reactive**: they process an input prompt and generate an output based on learned probabilities without engaging in structured planning or multi-step reasoning.\n",
        "\n",
        "Recent research aims to move beyond simple input-output tasks by equipping LLMs with **agentic capabilities** — the ability to plan, reason, and autonomously achieve goals over extended interactions. **LLM agents** combine the linguistic abilities of LLMs with additional architectures for memory, reasoning, environment interaction, and planning.\n",
        "\n",
        "Applications of LLM agents include:\n",
        "- Autonomous research assistants\n",
        "- Complex multi-turn dialogue agents\n",
        "- Autonomous programming bots\n",
        "- Planning and decision-making systems in open-ended environments\n",
        "\n",
        "Building such agents introduces challenges including:\n",
        "- How to plan over long horizons\n",
        "- How to select good intermediate actions (\"thoughts\")\n",
        "- How to self-correct mistakes\n",
        "- How to balance exploration vs exploitation\n",
        "\n",
        "This project explores the mathematical methods behind LLM agents, implements a basic simulated agent, and evaluates its behavior.\n"
      ],
      "metadata": {
        "id": "jLRH4v3iIr87"
      }
    },
    {
      "cell_type": "markdown",
      "source": [
        "# MATH METHOD\n",
        "\n",
        "LLM agents incorporate key ideas from **Reinforcement Learning**, **Search Algorithms**, and **Optimization**. We focus on:\n",
        "\n",
        "## Markov Decision Processes (MDP)\n",
        "\n",
        "An MDP provides a formal framework for decision-making over time. It is defined by:\n",
        "- **States (S):** The possible configurations of the environment.\n",
        "- **Actions (A):** The set of all possible actions the agent can take.\n",
        "- **Transition Function (T):** \\( T(s, a, s') = P(s'|s, a) \\) gives the probability of moving from state \\( s \\) to \\( s' \\) after action \\( a \\).\n",
        "- **Reward Function (R):** \\( R(s, a) \\) gives the immediate reward received after taking action \\( a \\) in state \\( s \\).\n",
        "- **Policy (π):** A mapping from states to actions that defines the agent's behavior.\n",
        "\n",
        "Goal: Find the policy \\( π^* \\) that maximizes the expected cumulative reward:\n",
        "\n",
        "\\[\n",
        "π^* = \\arg\\max_π \\mathbb{E}\\left[\\sum_{t=0}^∞ γ^t R(s_t, a_t)\\right]\n",
        "\\]\n",
        "where \\( γ \\in [0, 1] \\) is a discount factor.\n",
        "\n",
        "---\n",
        "\n",
        "## Tree of Thoughts (ToT)\n",
        "\n",
        "The **Tree of Thoughts** (ToT) framework models an agent's reasoning as an explicit search over possible chains of reasoning.\n",
        "\n",
        "- Nodes: Represent partial thoughts or intermediate reasoning steps.\n",
        "- Edges: Expanding thoughts by generating plausible continuations.\n",
        "- Search: Evaluate and prune weaker paths, expand stronger ones.\n",
        "\n",
        "Mathematically, it's akin to **Breadth-First Search (BFS)** or **Best-First Search** on a dynamically generated tree where the successor function is powered by LLM generation.\n",
        "\n",
        "---\n",
        "\n",
        "## Optimization\n",
        "\n",
        "Training or fine-tuning LLM agents can involve **Policy Optimization** techniques like:\n",
        "\n",
        "- **Proximal Policy Optimization (PPO):** A gradient ascent method that prevents large updates to policy parameters.\n",
        "- **Supervised Fine-Tuning (SFT):** Training LLMs to imitate demonstration trajectories.\n",
        "\n",
        "For this project, we simulate planning and reasoning without training."
      ],
      "metadata": {
        "id": "rZUPVnYQIwUy"
      }
    },
    {
      "cell_type": "markdown",
      "source": [
        "# IMPLEMENTATION\n",
        "\n",
        "We implement a **Simple LLM Agent** that solves problems by:\n",
        "1. Generating multiple thoughts at each step.\n",
        "2. Evaluating thoughts based on a random simulated score.\n",
        "3. Expanding the best thoughts over several steps.\n",
        "4. Outputting a final solution based on the best path.\n",
        "\n",
        "This simulates key aspects of the Tree of Thoughts without requiring heavy computation."
      ],
      "metadata": {
        "id": "QKqmFJqRIy6a"
      }
    },
    {
      "cell_type": "code",
      "source": [
        "\n",
        "import random\n",
        "import matplotlib.pyplot as plt\n",
        "\n",
        "class SimpleLLMAgent:\n",
        "    def __init__(self, problem, num_steps=5, thoughts_per_step=3):\n",
        "        self.problem = problem\n",
        "        self.num_steps = num_steps\n",
        "        self.thoughts_per_step = thoughts_per_step\n",
        "        self.memory = []\n",
        "        self.scores = []\n",
        "\n",
        "    def generate_thoughts(self, state):\n",
        "        return [state + f\" -> Thought {i}: \" + random.choice([\"Analyze\", \"Expand\", \"Reframe\", \"Critique\"]) for i in range(self.thoughts_per_step)]\n",
        "\n",
        "    def evaluate_thoughts(self, thoughts):\n",
        "        scored = [(thought, random.random()) for thought in thoughts]\n",
        "        return sorted(scored, key=lambda x: x[1], reverse=True)\n",
        "\n",
        "    def solve(self):\n",
        "        state = self.problem\n",
        "        for _ in range(self.num_steps):\n",
        "            thoughts = self.generate_thoughts(state)\n",
        "            evaluated = self.evaluate_thoughts(thoughts)\n",
        "            best_thought, score = evaluated[0]\n",
        "            self.memory.append(best_thought)\n",
        "            self.scores.append(score)\n",
        "            state = best_thought\n",
        "        return state\n",
        "\n",
        "# Example: Solve one problem\n",
        "agent = SimpleLLMAgent(\"How to transport water across a desert?\")\n",
        "solution = agent.solve()\n",
        "\n",
        "print(\"Reasoning Steps:\")\n",
        "for step, mem in enumerate(agent.memory, 1):\n",
        "    print(f\"Step {step}: {mem}\")\n",
        "\n",
        "# Plot scores\n",
        "plt.plot(range(1, len(agent.scores)+1), agent.scores, marker='o')\n",
        "plt.title(\"Agent Thought Evaluation Over Steps\")\n",
        "plt.xlabel(\"Step\")\n",
        "plt.ylabel(\"Thought Score\")\n",
        "plt.grid(True)\n",
        "plt.show()\n"
      ],
      "metadata": {
        "colab": {
          "base_uri": "https://localhost:8080/",
          "height": 579
        },
        "id": "2MEvEib6I09V",
        "outputId": "f07d70e3-b66d-45fb-bf9e-e96027dcfaf7"
      },
      "execution_count": 1,
      "outputs": [
        {
          "output_type": "stream",
          "name": "stdout",
          "text": [
            "Reasoning Steps:\n",
            "Step 1: How to transport water across a desert? -> Thought 1: Analyze\n",
            "Step 2: How to transport water across a desert? -> Thought 1: Analyze -> Thought 1: Analyze\n",
            "Step 3: How to transport water across a desert? -> Thought 1: Analyze -> Thought 1: Analyze -> Thought 2: Analyze\n",
            "Step 4: How to transport water across a desert? -> Thought 1: Analyze -> Thought 1: Analyze -> Thought 2: Analyze -> Thought 0: Analyze\n",
            "Step 5: How to transport water across a desert? -> Thought 1: Analyze -> Thought 1: Analyze -> Thought 2: Analyze -> Thought 0: Analyze -> Thought 2: Reframe\n"
          ]
        },
        {
          "output_type": "display_data",
          "data": {
            "text/plain": [
              "<Figure size 640x480 with 1 Axes>"
            ],
            "image/png": "[encoded data removed]"
          },
          "metadata": {}
        }
      ]
    },
    {
      "cell_type": "markdown",
      "source": [
        "# DATA\n",
        "\n",
        "We create a small dataset of open-ended reasoning tasks:\n",
        "\n",
        "- **Problem 1:** How to transport water across a desert?\n",
        "- **Problem 2:** How can a robot organize a messy room?\n",
        "- **Problem 3:** What is an efficient way to memorize a book?\n",
        "- **Problem 4:** How can a small business reduce waste?\n",
        "\n",
        "The agent is run on each problem to observe the quality and consistency of the reasoning paths.\n"
      ],
      "metadata": {
        "id": "sY9HJLH7I5X3"
      }
    },
    {
      "cell_type": "code",
      "source": [
        "\n",
        "problems = [\n",
        "    \"How to transport water across a desert?\",\n",
        "    \"How can a robot organize a messy room?\",\n",
        "    \"What is an efficient way to memorize a book?\",\n",
        "    \"How can a small business reduce waste?\"\n",
        "]\n",
        "\n",
        "for idx, problem in enumerate(problems, 1):\n",
        "    print(f\"\\n=== Problem {idx}: {problem} ===\")\n",
        "    agent = SimpleLLMAgent(problem)\n",
        "    solution = agent.solve()\n",
        "    for mem in agent.memory:\n",
        "        print(mem)\n",
        "    print(\"Final Solution:\", solution)\n",
        ""
      ],
      "metadata": {
        "colab": {
          "base_uri": "https://localhost:8080/"
        },
        "id": "2TbwdPndI7h_",
        "outputId": "4c988bda-5b1b-4445-a336-b61814dfc79b"
      },
      "execution_count": 2,
      "outputs": [
        {
          "output_type": "stream",
          "name": "stdout",
          "text": [
            "\n",
            "=== Problem 1: How to transport water across a desert? ===\n",
            "How to transport water across a desert? -> Thought 1: Reframe\n",
            "How to transport water across a desert? -> Thought 1: Reframe -> Thought 1: Expand\n",
            "How to transport water across a desert? -> Thought 1: Reframe -> Thought 1: Expand -> Thought 1: Analyze\n",
            "How to transport water across a desert? -> Thought 1: Reframe -> Thought 1: Expand -> Thought 1: Analyze -> Thought 2: Analyze\n",
            "How to transport water across a desert? -> Thought 1: Reframe -> Thought 1: Expand -> Thought 1: Analyze -> Thought 2: Analyze -> Thought 1: Analyze\n",
            "Final Solution: How to transport water across a desert? -> Thought 1: Reframe -> Thought 1: Expand -> Thought 1: Analyze -> Thought 2: Analyze -> Thought 1: Analyze\n",
            "\n",
            "=== Problem 2: How can a robot organize a messy room? ===\n",
            "How can a robot organize a messy room? -> Thought 0: Reframe\n",
            "How can a robot organize a messy room? -> Thought 0: Reframe -> Thought 2: Expand\n",
            "How can a robot organize a messy room? -> Thought 0: Reframe -> Thought 2: Expand -> Thought 2: Reframe\n",
            "How can a robot organize a messy room? -> Thought 0: Reframe -> Thought 2: Expand -> Thought 2: Reframe -> Thought 0: Analyze\n",
            "How can a robot organize a messy room? -> Thought 0: Reframe -> Thought 2: Expand -> Thought 2: Reframe -> Thought 0: Analyze -> Thought 2: Critique\n",
            "Final Solution: How can a robot organize a messy room? -> Thought 0: Reframe -> Thought 2: Expand -> Thought 2: Reframe -> Thought 0: Analyze -> Thought 2: Critique\n",
            "\n",
            "=== Problem 3: What is an efficient way to memorize a book? ===\n",
            "What is an efficient way to memorize a book? -> Thought 0: Critique\n",
            "What is an efficient way to memorize a book? -> Thought 0: Critique -> Thought 1: Reframe\n",
            "What is an efficient way to memorize a book? -> Thought 0: Critique -> Thought 1: Reframe -> Thought 2: Analyze\n",
            "What is an efficient way to memorize a book? -> Thought 0: Critique -> Thought 1: Reframe -> Thought 2: Analyze -> Thought 2: Reframe\n",
            "What is an efficient way to memorize a book? -> Thought 0: Critique -> Thought 1: Reframe -> Thought 2: Analyze -> Thought 2: Reframe -> Thought 0: Analyze\n",
            "Final Solution: What is an efficient way to memorize a book? -> Thought 0: Critique -> Thought 1: Reframe -> Thought 2: Analyze -> Thought 2: Reframe -> Thought 0: Analyze\n",
            "\n",
            "=== Problem 4: How can a small business reduce waste? ===\n",
            "How can a small business reduce waste? -> Thought 2: Critique\n",
            "How can a small business reduce waste? -> Thought 2: Critique -> Thought 0: Reframe\n",
            "How can a small business reduce waste? -> Thought 2: Critique -> Thought 0: Reframe -> Thought 2: Analyze\n",
            "How can a small business reduce waste? -> Thought 2: Critique -> Thought 0: Reframe -> Thought 2: Analyze -> Thought 0: Critique\n",
            "How can a small business reduce waste? -> Thought 2: Critique -> Thought 0: Reframe -> Thought 2: Analyze -> Thought 0: Critique -> Thought 1: Expand\n",
            "Final Solution: How can a small business reduce waste? -> Thought 2: Critique -> Thought 0: Reframe -> Thought 2: Analyze -> Thought 0: Critique -> Thought 1: Expand\n"
          ]
        }
      ]
    },
    {
      "cell_type": "markdown",
      "source": [
        "\n",
        "# REFERENCES\n",
        "\n",
        "- Yao, Shinn, et al. **\"Tree of Thoughts: Deliberate Problem Solving with Large Language Models.\"** 2023. [arXiv preprint](https://arxiv.org/abs/2305.10601).\n",
        "- Sutton, Richard S., and Andrew G. Barto. **\"Reinforcement Learning: An Introduction.\"** 2nd Edition, MIT Press, 2018.\n",
        "- OpenAI. **\"Introducing GPT-Agents.\"** OpenAI Blog, 2023.\n",
        "- Lilian Weng, **\"LLM Agents: Tools, Planning, and Memory.\"** 2023."
      ],
      "metadata": {
        "id": "daa0z8OLI_CE"
      }
    }
  ]
}